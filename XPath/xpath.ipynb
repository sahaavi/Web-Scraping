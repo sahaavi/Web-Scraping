{
 "cells": [
  {
   "cell_type": "markdown",
   "metadata": {},
   "source": [
    "XPath stands for XML Path Language. XPath is a query language for selecting nodes from an XML document, but we can also use it to select elements from HTML pages.  \n",
    "Another way to select elements from website is CSS selectors. CSS and XPath have some similarities in their syntax. "
   ]
  },
  {
   "cell_type": "markdown",
   "metadata": {},
   "source": [
    "Locate an element: `//tagName`  \n",
    "This means pick a match node that is located at any level within the XML document.  \n",
    "Suppose there are 2 tags with same tagname and you want the first one: `//tagName[1]`  \n",
    "You can also specify the attribute to locate the element: `//tagName[@AttributeName=\"Value\"]` - This is the standard version of an XPath."
   ]
  },
  {
   "cell_type": "markdown",
   "metadata": {},
   "source": [
    "Functions to find specific values.\n",
    "`contains()` - will search for text included inside an element.\n",
    "> ```//tagName[contains(@AttributeName, \"Value\")]```   \n",
    "\n",
    "`starts-with()` - will search for text at the beginning of an element.   \n",
    "We can locagical opertors for multiple conditions.\n",
    "> ```//tagName[(expression 1) and (expression 2)]``` "
   ]
  },
  {
   "cell_type": "markdown",
   "metadata": {},
   "source": [
    "Play with XPath [here](https://scrapinghub.github.io/xpath-playground/)  \n",
    "HTML to play with:\n",
    "```(html)\n",
    "<article class =\"main-article\">\n",
    "    <h1> Titanic(1997) </h1>\n",
    "    <p class =\"plot\" > 84 years later... </p>\n",
    "    <p class =\"plot2\" > In the end ... </p>\n",
    "    <div class =\"full-script\">\n",
    "    \"13 meters. You should see it. \"\n",
    "    \"Okay, take her up and over the bow rail. \"\n",
    "    </div>\n",
    "</article>\n",
    "```"
   ]
  },
  {
   "cell_type": "markdown",
   "metadata": {},
   "source": [
    "Try these in the XPath input filed:\n",
    "```(html)\n",
    "//p\n",
    "//div/text()\n",
    "//p[1] <!-- if you want the first paragraph>\n",
    "//div[@class=\"full-script\"]/text() <!-- get the text from full-script class attribute inside div tag>\n",
    "//p[(@class=\"plot\") or (@class=\"plot2\")]\n",
    "//p[(@class=\"plot\") and (@class=\"plot2\")] <!-- it won't work because there is no element that staisfy these both condition>\n",
    "//p[contains(@class, 'plot')]\n",
    "//div[contains(@class, 'script')] <!-- don't have to write the full attribute value \"full-script\">\n",
    "```"
   ]
  },
  {
   "cell_type": "markdown",
   "metadata": {},
   "source": [
    "**Special Characters**\n",
    "- /: Select the children from the node set on the left side of this character  \n",
    "- //: Specifies that the matching node set should be located at any level within the document\n",
    "- .: Specifies the current context should be used(refers to present node)\n",
    "- ..: Refers to a parent node\n",
    "- *: A wildcard character that selects all elements or attributes regardless of names\n",
    "- @: Select an attribute\n",
    "- (): Grouping an XPath expression\n",
    "- [n]: Indicates that a node with index \"n\" should be selected\n"
   ]
  },
  {
   "cell_type": "markdown",
   "metadata": {},
   "source": [
    "```(html)\n",
    "//article/p <!-- will get every p tag inside the parent article tag>\n",
    "//article/text() <!-- won't get anything becuase article tag doesn't have any text as child>\n",
    "//article//text() <!-- now we will get any text at any level inside article element>\n",
    "//article/h1/text()\n",
    "//h1/. <!-- will return h1>\n",
    "//h1/.. <!-- it will return article as article is the parent node of h1>\n",
    "./* <! will return every elements inside current context>\n",
    "//article/* <!-- will return every element inside article>\n",
    "//article/*/text()\n",
    "```"
   ]
  },
  {
   "cell_type": "code",
   "execution_count": null,
   "metadata": {},
   "outputs": [],
   "source": []
  }
 ],
 "metadata": {
  "language_info": {
   "name": "python"
  },
  "orig_nbformat": 4
 },
 "nbformat": 4,
 "nbformat_minor": 2
}
