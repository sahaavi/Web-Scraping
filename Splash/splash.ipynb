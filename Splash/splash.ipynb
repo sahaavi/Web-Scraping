{
 "cells": [
  {
   "cell_type": "markdown",
   "metadata": {},
   "source": [
    "## Splash Basics"
   ]
  },
  {
   "cell_type": "markdown",
   "metadata": {},
   "source": [
    "Scrapy alone doesn't let us scrape JavaScript-driven websites, so we have to add Splash to it. We will keep scraping websites using Python/Scrapy, but, in addition to that, we will build a small script on Splash to get the HTML code behind the JavaScript website we wish to scrape."
   ]
  },
  {
   "cell_type": "markdown",
   "metadata": {},
   "source": [
    "For this section we'll need `docker`.\n",
    "Create docker account [here](https://hub.docker.com/)  \n",
    "[Download Docker](https://www.docker.com/products/docker-desktop/)\n"
   ]
  },
  {
   "cell_type": "markdown",
   "metadata": {},
   "source": [
    "Now install splash using this command `docker pull scrapinghub/splash`.  \n",
    "Before executing this command open the Docker Desktop in your pc.\n",
    "After that we have to execute another command which will help us to run splash on browser.  \n",
    "`docker run -it -p 8050:8050 scrapinghub/splash`\n",
    "And goto this address in your browser `http://localhost:8050/`"
   ]
  },
  {
   "cell_type": "markdown",
   "metadata": {},
   "source": [
    "![splash](../images/splash.png)"
   ]
  },
  {
   "cell_type": "markdown",
   "metadata": {},
   "source": [
    "Splash uses Lua programming language."
   ]
  },
  {
   "cell_type": "markdown",
   "metadata": {},
   "source": [
    "Splash code to get the image of the website.\n",
    "```\n",
    "function main(splash, args)\n",
    "    url = args.url # url we want \n",
    "    splash:go(url)\n",
    "    return splash:png()\n",
    "end\n",
    "```"
   ]
  },
  {
   "cell_type": "markdown",
   "metadata": {},
   "source": [
    "```\n",
    "function main(splash, args)\n",
    "  assert(splash:go(args.url))\n",
    "  assert(splash:wait(0.5))\n",
    "  return {\n",
    "    html = splash:html(),\n",
    "    png = splash:png(),\n",
    "    har = splash:har(),\n",
    "  }\n",
    "end\n",
    "```\n",
    "assert function helps to get error message here."
   ]
  },
  {
   "cell_type": "markdown",
   "metadata": {},
   "source": [
    "## Splash in action \n",
    "Execute this [code](paste amazon lua) on splash and see the result."
   ]
  },
  {
   "cell_type": "markdown",
   "metadata": {},
   "source": [
    "Remember unlike selenium we can't use XPath on Splash. We can only use css selector."
   ]
  },
  {
   "cell_type": "markdown",
   "metadata": {},
   "source": [
    "## Scrape JavaScript website using Splash & Scrapy"
   ]
  },
  {
   "cell_type": "markdown",
   "metadata": {},
   "source": [
    "We are using a new project to do this.  \n",
    "`scrapy startproject splash_scrapy`  \n",
    "We also need to install this library `pip install scrapy-splash`  \n",
    "Then paste this inside the scrapy project setting.py  \n",
    "```\n",
    "SPLASH_URL = 'http://localhost:8050`\n",
    "\n",
    "DOWNLOADER_MIDDLEWARES = {\n",
    "    'scrapy_splash.SplashCookiesMiddleware': 723,\n",
    "    'scrapy_splash.SplashMiddleware': 725,\n",
    "    'scrapy.downloadermiddlewares.httpcompression.HttpCompressionMiddleware': 810,\n",
    "}\n",
    "\n",
    "SPIDER_MIDDLEWARES = {\n",
    "    'scrapy_splash.SplashDeduplicateArgsMiddleware': 100,\n",
    "}\n",
    "\n",
    "DUPEFILTER_CLASS = 'scrapy_splash.SplashAwareDupeFilter'\n",
    "```"
   ]
  },
  {
   "cell_type": "markdown",
   "metadata": {},
   "source": [
    "Then paste this [code](https://github.com/sahaavi/Web-Scraping/blob/main/Splash/splash_scrapy.lua) inside the [spider script](https://github.com/sahaavi/Web-Scraping/blob/main/Splash/splash_scrapy/splash_scrapy/spiders/adamchoi.py)."
   ]
  },
  {
   "cell_type": "markdown",
   "metadata": {},
   "source": [
    "Now parse the [website](https://github.com/sahaavi/Web-Scraping/blob/main/Splash/splash_scrapy/splash_scrapy/spiders/adamchoi_parse.py)"
   ]
  },
  {
   "cell_type": "markdown",
   "metadata": {},
   "source": [
    "Change user agent inside Splash [code](https://github.com/sahaavi/Web-Scraping/blob/main/Splash/splash_scrapy/splash_scrapy/spiders/splash_scrapy_change_user_agent.lua)"
   ]
  }
 ],
 "metadata": {
  "language_info": {
   "name": "python"
  },
  "orig_nbformat": 4
 },
 "nbformat": 4,
 "nbformat_minor": 2
}
